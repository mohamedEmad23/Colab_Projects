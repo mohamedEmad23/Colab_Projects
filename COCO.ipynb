{
  "nbformat": 4,
  "nbformat_minor": 0,
  "metadata": {
    "colab": {
      "provenance": [],
      "include_colab_link": true
    },
    "kernelspec": {
      "name": "python3",
      "display_name": "Python 3"
    },
    "language_info": {
      "name": "python"
    }
  },
  "cells": [
    {
      "cell_type": "markdown",
      "metadata": {
        "id": "view-in-github",
        "colab_type": "text"
      },
      "source": [
        "<a href=\"https://colab.research.google.com/github/mohamedEmad23/Colab_Projects/blob/main/COCO.ipynb\" target=\"_parent\"><img src=\"https://colab.research.google.com/assets/colab-badge.svg\" alt=\"Open In Colab\"/></a>"
      ]
    },
    {
      "cell_type": "markdown",
      "source": [
        "# COCO data loading"
      ],
      "metadata": {
        "id": "5Yn_BsZMuK00"
      }
    },
    {
      "cell_type": "code",
      "execution_count": null,
      "metadata": {
        "colab": {
          "base_uri": "https://localhost:8080/"
        },
        "id": "r5qu-I8GmzE7",
        "outputId": "22919666-ad86-4c54-9de8-015f0f5e5b1b"
      },
      "outputs": [
        {
          "output_type": "stream",
          "name": "stdout",
          "text": [
            "--2025-03-18 19:29:36--  http://images.cocodataset.org/zips/train2017.zip\n",
            "Resolving images.cocodataset.org (images.cocodataset.org)... 52.217.49.188, 3.5.9.11, 3.5.8.15, ...\n",
            "Connecting to images.cocodataset.org (images.cocodataset.org)|52.217.49.188|:80... connected.\n",
            "HTTP request sent, awaiting response... 200 OK\n",
            "Length: 19336861798 (18G) [application/zip]\n",
            "Saving to: ‘coco_train2017.zip’\n",
            "\n",
            "coco_train2017.zip   15%[==>                 ]   2.72G  96.2MB/s    eta 2m 45s "
          ]
        }
      ],
      "source": [
        "!wget http://images.cocodataset.org/zips/train2017.zip -O coco_train2017.zip\n",
        "!wget http://images.cocodataset.org/zips/val2017.zip -O coco_val2017.zip\n",
        "!wget http://images.cocodataset.org/annotations/annotations_trainval2017.zip -O coco_ann2017.zip\n"
      ]
    },
    {
      "cell_type": "code",
      "source": [
        "from zipfile import ZipFile, BadZipFile\n",
        "import os\n",
        "def extract_zip_file(extract_path):\n",
        "    try:\n",
        "        with ZipFile(extract_path+\".zip\") as zfile:\n",
        "            zfile.extractall(extract_path)\n",
        "        # remove zipfile\n",
        "        zfileTOremove=f\"{extract_path}\"+\".zip\"\n",
        "        if os.path.isfile(zfileTOremove):\n",
        "            os.remove(zfileTOremove)\n",
        "        else:\n",
        "            print(\"Error: %s file not found\" % zfileTOremove)\n",
        "    except BadZipFile as e:\n",
        "        print(\"Error:\", e)\n",
        "extract_train_path = \"./coco_train2017\"\n",
        "extract_val_path = \"./coco_val2017\"\n",
        "extract_ann_path=\"./coco_ann2017\"\n",
        "extract_zip_file(extract_train_path)\n",
        "extract_zip_file(extract_val_path)\n",
        "extract_zip_file(extract_ann_path)"
      ],
      "metadata": {
        "id": "RB-UXe_Rm5Qh"
      },
      "execution_count": null,
      "outputs": []
    },
    {
      "cell_type": "code",
      "source": [
        "from collections import defaultdict\n",
        "import json\n",
        "import numpy as np\n",
        "class COCOParser:\n",
        "    def __init__(self, anns_file, imgs_dir):\n",
        "        with open(anns_file, 'r') as f:\n",
        "            coco = json.load(f)\n",
        "\n",
        "        self.annIm_dict = defaultdict(list)\n",
        "        self.cat_dict = {}\n",
        "        self.annId_dict = {}\n",
        "        self.im_dict = {}\n",
        "        self.licenses_dict = {}\n",
        "        for ann in coco['annotations']:\n",
        "            self.annIm_dict[ann['image_id']].append(ann)\n",
        "            self.annId_dict[ann['id']]=ann\n",
        "        for img in coco['images']:\n",
        "            self.im_dict[img['id']] = img\n",
        "        for cat in coco['categories']:\n",
        "            self.cat_dict[cat['id']] = cat\n",
        "        for license in coco['licenses']:\n",
        "            self.licenses_dict[license['id']] = license\n",
        "    def get_imgIds(self):\n",
        "        return list(self.im_dict.keys())\n",
        "    def get_annIds(self, im_ids):\n",
        "        im_ids=im_ids if isinstance(im_ids, list) else [im_ids]\n",
        "        return [ann['id'] for im_id in im_ids for ann in self.annIm_dict[im_id]]\n",
        "    def load_anns(self, ann_ids):\n",
        "        im_ids=ann_ids if isinstance(ann_ids, list) else [ann_ids]\n",
        "        return [self.annId_dict[ann_id] for ann_id in ann_ids]\n",
        "    def load_cats(self, class_ids):\n",
        "        class_ids=class_ids if isinstance(class_ids, list) else [class_ids]\n",
        "        return [self.cat_dict[class_id] for class_id in class_ids]\n",
        "    def get_imgLicenses(self,im_ids):\n",
        "        im_ids=im_ids if isinstance(im_ids, list) else [im_ids]\n",
        "        lic_ids = [self.im_dict[im_id][\"license\"] for im_id in im_ids]\n",
        "        return [self.licenses_dict[lic_id] for lic_id in lic_ids]"
      ],
      "metadata": {
        "id": "4B6Clwriqk_V"
      },
      "execution_count": null,
      "outputs": []
    },
    {
      "cell_type": "code",
      "source": [
        "cocoTrain_annotations_file=\"/content/coco_ann2017/annotations/instances_train2017.json\"\n",
        "cocoTrain_images_dir=\"/content/coco_train2017/train2017\"\n",
        "cocoTrain= COCOParser(cocoTrain_annotations_file, cocoTrain_images_dir)"
      ],
      "metadata": {
        "id": "zLIuCxh2xc5T"
      },
      "execution_count": null,
      "outputs": []
    },
    {
      "cell_type": "code",
      "source": [
        "import matplotlib.pyplot as plt\n",
        "from PIL import Image\n",
        "import numpy as np\n",
        "# define a list of colors for drawing bounding boxes\n",
        "color_list = [\"pink\", \"red\", \"teal\", \"blue\", \"orange\", \"yellow\", \"black\", \"magenta\",\"green\",\"aqua\"]*10\n",
        "num_imgs_to_disp = 4\n",
        "total_images = len(cocoTrain.get_imgIds()) # total number of images\n",
        "sel_im_idxs = np.random.permutation(total_images)[:num_imgs_to_disp]\n",
        "img_ids = cocoTrain.get_imgIds()\n",
        "selected_img_ids = [img_ids[i] for i in sel_im_idxs]\n",
        "ann_ids = cocoTrain.get_annIds(selected_img_ids)\n",
        "im_licenses = cocoTrain.get_imgLicenses(selected_img_ids)\n",
        "fig, ax = plt.subplots(nrows=2, ncols=2, figsize=(15,10))\n",
        "ax = ax.ravel()\n",
        "for i, im in enumerate(selected_img_ids):\n",
        "    image = Image.open(f\"{cocoTrain_images_dir}/{str(im).zfill(12)}.jpg\")\n",
        "    ann_ids = cocoTrain.get_annIds(im)\n",
        "    annotations = cocoTrain.load_anns(ann_ids)\n",
        "    for ann in annotations:\n",
        "        bbox = ann['bbox']\n",
        "        x, y, w, h = [int(b) for b in bbox]\n",
        "        class_id = ann[\"category_id\"]\n",
        "        class_name = cocoTrain.load_cats(class_id)[0][\"name\"]\n",
        "        license = cocoTrain.get_imgLicenses(im)[0][\"name\"]\n",
        "        color_ = color_list[class_id]\n",
        "        rect = plt.Rectangle((x, y), w, h, linewidth=2, edgecolor=color_, facecolor='none')\n",
        "        t_box=ax[i].text(x, y, class_name,  color='red', fontsize=10)\n",
        "        t_box.set_bbox(dict(boxstyle='square, pad=0',facecolor='white', alpha=0.6, edgecolor='blue'))\n",
        "        ax[i].add_patch(rect)\n",
        "\n",
        "    ax[i].axis('off')\n",
        "    ax[i].imshow(image)\n",
        "    ax[i].set_xlabel('Longitude')\n",
        "    ax[i].set_title(f\"License: {license}\")\n",
        "plt.tight_layout()\n",
        "plt.show()"
      ],
      "metadata": {
        "id": "OKYwTQbgxc5T"
      },
      "execution_count": null,
      "outputs": []
    },
    {
      "cell_type": "code",
      "source": [
        "cocoVal_annotations_file=\"/content/coco_ann2017/annotations/instances_val2017.json\"\n",
        "cocoVal_images_dir=\"/content/coco_val2017/val2017\"\n",
        "cocoVal= COCOParser(cocoVal_annotations_file, cocoVal_images_dir)"
      ],
      "metadata": {
        "id": "B9GkyMF5rl9B"
      },
      "execution_count": null,
      "outputs": []
    },
    {
      "cell_type": "code",
      "source": [
        "import matplotlib.pyplot as plt\n",
        "from PIL import Image\n",
        "import numpy as np\n",
        "# define a list of colors for drawing bounding boxes\n",
        "color_list = [\"pink\", \"red\", \"teal\", \"blue\", \"orange\", \"yellow\", \"black\", \"magenta\",\"green\",\"aqua\"]*10\n",
        "num_imgs_to_disp = 4\n",
        "total_images = len(cocoVal.get_imgIds()) # total number of images\n",
        "sel_im_idxs = np.random.permutation(total_images)[:num_imgs_to_disp]\n",
        "img_ids = cocoVal.get_imgIds()\n",
        "selected_img_ids = [img_ids[i] for i in sel_im_idxs]\n",
        "ann_ids = cocoVal.get_annIds(selected_img_ids)\n",
        "im_licenses = cocoVal.get_imgLicenses(selected_img_ids)\n",
        "fig, ax = plt.subplots(nrows=2, ncols=2, figsize=(15,10))\n",
        "ax = ax.ravel()\n",
        "for i, im in enumerate(selected_img_ids):\n",
        "    image = Image.open(f\"{cocoVal_images_dir}/{str(im).zfill(12)}.jpg\")\n",
        "    ann_ids = cocoVal.get_annIds(im)\n",
        "    annotations = cocoVal.load_anns(ann_ids)\n",
        "    for ann in annotations:\n",
        "        bbox = ann['bbox']\n",
        "        x, y, w, h = [int(b) for b in bbox]\n",
        "        class_id = ann[\"category_id\"]\n",
        "        class_name = cocoVal.load_cats(class_id)[0][\"name\"]\n",
        "        license = cocoVal.get_imgLicenses(im)[0][\"name\"]\n",
        "        color_ = color_list[class_id]\n",
        "        rect = plt.Rectangle((x, y), w, h, linewidth=2, edgecolor=color_, facecolor='none')\n",
        "        t_box=ax[i].text(x, y, class_name,  color='red', fontsize=10)\n",
        "        t_box.set_bbox(dict(boxstyle='square, pad=0',facecolor='white', alpha=0.6, edgecolor='blue'))\n",
        "        ax[i].add_patch(rect)\n",
        "\n",
        "    ax[i].axis('off')\n",
        "    ax[i].imshow(image)\n",
        "    ax[i].set_xlabel('Longitude')\n",
        "    ax[i].set_title(f\"License: {license}\")\n",
        "plt.tight_layout()\n",
        "plt.show()"
      ],
      "metadata": {
        "id": "WExhuCGBrokc"
      },
      "execution_count": null,
      "outputs": []
    },
    {
      "cell_type": "markdown",
      "source": [
        "# Extracting the 64 classes"
      ],
      "metadata": {
        "id": "yXFSTlv_uSWv"
      }
    },
    {
      "cell_type": "code",
      "source": [
        "for cat in cocoTrain.cat_dict.values():\n",
        "    print(cat[\"id\"], \"->\", cat[\"name\"])"
      ],
      "metadata": {
        "colab": {
          "base_uri": "https://localhost:8080/"
        },
        "id": "ZhWRWb1Cus1S",
        "outputId": "01d5a028-94ab-4665-e85c-ee4c2ec3a7d7"
      },
      "execution_count": null,
      "outputs": [
        {
          "output_type": "stream",
          "name": "stdout",
          "text": [
            "1 -> person\n",
            "2 -> bicycle\n",
            "3 -> car\n",
            "4 -> motorcycle\n",
            "5 -> airplane\n",
            "6 -> bus\n",
            "7 -> train\n",
            "8 -> truck\n",
            "9 -> boat\n",
            "10 -> traffic light\n",
            "11 -> fire hydrant\n",
            "13 -> stop sign\n",
            "14 -> parking meter\n",
            "15 -> bench\n",
            "16 -> bird\n",
            "17 -> cat\n",
            "18 -> dog\n",
            "19 -> horse\n",
            "20 -> sheep\n",
            "21 -> cow\n",
            "22 -> elephant\n",
            "23 -> bear\n",
            "24 -> zebra\n",
            "25 -> giraffe\n",
            "27 -> backpack\n",
            "28 -> umbrella\n",
            "31 -> handbag\n",
            "32 -> tie\n",
            "33 -> suitcase\n",
            "34 -> frisbee\n",
            "35 -> skis\n",
            "36 -> snowboard\n",
            "37 -> sports ball\n",
            "38 -> kite\n",
            "39 -> baseball bat\n",
            "40 -> baseball glove\n",
            "41 -> skateboard\n",
            "42 -> surfboard\n",
            "43 -> tennis racket\n",
            "44 -> bottle\n",
            "46 -> wine glass\n",
            "47 -> cup\n",
            "48 -> fork\n",
            "49 -> knife\n",
            "50 -> spoon\n",
            "51 -> bowl\n",
            "52 -> banana\n",
            "53 -> apple\n",
            "54 -> sandwich\n",
            "55 -> orange\n",
            "56 -> broccoli\n",
            "57 -> carrot\n",
            "58 -> hot dog\n",
            "59 -> pizza\n",
            "60 -> donut\n",
            "61 -> cake\n",
            "62 -> chair\n",
            "63 -> couch\n",
            "64 -> potted plant\n",
            "65 -> bed\n",
            "67 -> dining table\n",
            "70 -> toilet\n",
            "72 -> tv\n",
            "73 -> laptop\n",
            "74 -> mouse\n",
            "75 -> remote\n",
            "76 -> keyboard\n",
            "77 -> cell phone\n",
            "78 -> microwave\n",
            "79 -> oven\n",
            "80 -> toaster\n",
            "81 -> sink\n",
            "82 -> refrigerator\n",
            "84 -> book\n",
            "85 -> clock\n",
            "86 -> vase\n",
            "87 -> scissors\n",
            "88 -> teddy bear\n",
            "89 -> hair drier\n",
            "90 -> toothbrush\n"
          ]
        }
      ]
    },
    {
      "cell_type": "code",
      "source": [
        "# Count how many images contain each category (before filtering)\n",
        "category_image_count_full = {cat_id: 0 for cat_id in cocoTrain.cat_dict.keys()}\n",
        "\n",
        "for img_id in cocoTrain.get_imgIds():\n",
        "    anns = cocoTrain.annIm_dict[img_id]\n",
        "    category_ids_in_image = {ann[\"category_id\"] for ann in anns}\n",
        "\n",
        "    for cat_id in category_ids_in_image:\n",
        "        category_image_count_full[cat_id] += 1\n",
        "\n",
        "# Sort categories by image count (descending)\n",
        "sorted_categories = sorted(category_image_count_full.items(), key=lambda x: x[1], reverse=True)\n",
        "\n",
        "# Print the distribution\n",
        "print(\"COCO Dataset Image Distribution (Before Filtering):\\n\")\n",
        "print(f\"Total Images: {len(cocoTrain.get_imgIds())}\")\n",
        "for cat_id, count in sorted_categories:\n",
        "    print(f\"{cocoTrain.cat_dict[cat_id]['name']}: {count} images\")\n"
      ],
      "metadata": {
        "colab": {
          "base_uri": "https://localhost:8080/"
        },
        "id": "5LWpl6bjwO0p",
        "outputId": "50cb394e-cc95-4821-9f2b-147968d374e8"
      },
      "execution_count": null,
      "outputs": [
        {
          "output_type": "stream",
          "name": "stdout",
          "text": [
            "COCO Dataset Image Distribution (Before Filtering):\n",
            "\n",
            "Total Images: 118287\n",
            "person: 64115 images\n",
            "chair: 12774 images\n",
            "car: 12251 images\n",
            "dining table: 11837 images\n",
            "cup: 9189 images\n",
            "bottle: 8501 images\n",
            "bowl: 7111 images\n",
            "handbag: 6841 images\n",
            "truck: 6127 images\n",
            "bench: 5570 images\n",
            "backpack: 5528 images\n",
            "book: 5332 images\n",
            "cell phone: 4803 images\n",
            "sink: 4678 images\n",
            "clock: 4659 images\n",
            "tv: 4561 images\n",
            "potted plant: 4452 images\n",
            "couch: 4423 images\n",
            "dog: 4385 images\n",
            "knife: 4326 images\n",
            "sports ball: 4262 images\n",
            "traffic light: 4139 images\n",
            "cat: 4114 images\n",
            "umbrella: 3968 images\n",
            "bus: 3952 images\n",
            "tie: 3810 images\n",
            "bed: 3682 images\n",
            "vase: 3593 images\n",
            "train: 3588 images\n",
            "fork: 3555 images\n",
            "spoon: 3529 images\n",
            "laptop: 3524 images\n",
            "motorcycle: 3502 images\n",
            "surfboard: 3486 images\n",
            "skateboard: 3476 images\n",
            "tennis racket: 3394 images\n",
            "toilet: 3353 images\n",
            "bicycle: 3252 images\n",
            "bird: 3237 images\n",
            "pizza: 3166 images\n",
            "skis: 3082 images\n",
            "remote: 3076 images\n",
            "boat: 3025 images\n",
            "airplane: 2986 images\n",
            "horse: 2941 images\n",
            "cake: 2925 images\n",
            "oven: 2877 images\n",
            "baseball glove: 2629 images\n",
            "giraffe: 2546 images\n",
            "wine glass: 2533 images\n",
            "baseball bat: 2506 images\n",
            "suitcase: 2402 images\n",
            "sandwich: 2365 images\n",
            "refrigerator: 2360 images\n",
            "kite: 2261 images\n",
            "banana: 2243 images\n",
            "frisbee: 2184 images\n",
            "elephant: 2143 images\n",
            "teddy bear: 2140 images\n",
            "keyboard: 2115 images\n",
            "cow: 1968 images\n",
            "broccoli: 1939 images\n",
            "zebra: 1916 images\n",
            "mouse: 1876 images\n",
            "stop sign: 1734 images\n",
            "fire hydrant: 1711 images\n",
            "orange: 1699 images\n",
            "carrot: 1683 images\n",
            "snowboard: 1654 images\n",
            "apple: 1586 images\n",
            "microwave: 1547 images\n",
            "sheep: 1529 images\n",
            "donut: 1523 images\n",
            "hot dog: 1222 images\n",
            "toothbrush: 1007 images\n",
            "bear: 960 images\n",
            "scissors: 947 images\n",
            "parking meter: 705 images\n",
            "toaster: 217 images\n",
            "hair drier: 189 images\n"
          ]
        }
      ]
    },
    {
      "cell_type": "code",
      "source": [
        "target_classes = [\n",
        "    \"bicycle\", \"car\", \"motorcycle\", \"airplane\", \"bus\", \"train\", \"truck\", \"boat\",\n",
        "    \"traffic light\", \"stop sign\", \"parking meter\", \"bench\", \"bird\", \"cat\", \"dog\",\n",
        "    \"horse\", \"sheep\", \"cow\", \"elephant\", \"bear\", \"zebra\", \"backpack\", \"umbrella\",\n",
        "    \"handbag\", \"tie\", \"skis\", \"sports ball\", \"kite\", \"tennis racket\", \"bottle\",\n",
        "    \"wine glass\", \"cup\", \"knife\", \"spoon\", \"bowl\", \"banana\", \"apple\", \"orange\",\n",
        "    \"broccoli\", \"hot dog\", \"pizza\", \"donut\", \"chair\", \"couch\", \"potted plant\",\n",
        "    \"bed\", \"dining table\", \"toilet\", \"tv\", \"laptop\", \"mouse\", \"remote\",\n",
        "    \"keyboard\", \"cell phone\", \"microwave\", \"oven\", \"toaster\", \"sink\",\n",
        "    \"refrigerator\", \"book\", \"clock\", \"vase\", \"teddy bear\", \"hair drier\"\n",
        "]\n",
        "\n",
        "# Convert COCO category names to a dictionary {name: id}\n",
        "coco_categories = {cat[\"name\"]: cat[\"id\"] for cat in cocoTrain.cat_dict.values()}\n",
        "\n",
        "# Find category IDs that match our selected classes\n",
        "target_class_ids = [coco_categories[cls] for cls in target_classes if cls in coco_categories]\n",
        "\n",
        "print(\"Selected Category IDs:\", target_class_ids)\n"
      ],
      "metadata": {
        "colab": {
          "base_uri": "https://localhost:8080/"
        },
        "id": "r1YFIMYSrunw",
        "outputId": "d0c06c63-ef60-4ee4-fce1-bf852bf30557"
      },
      "execution_count": null,
      "outputs": [
        {
          "output_type": "stream",
          "name": "stdout",
          "text": [
            "Selected Category IDs: [2, 3, 4, 5, 6, 7, 8, 9, 10, 13, 14, 15, 16, 17, 18, 19, 20, 21, 22, 23, 24, 27, 28, 31, 32, 35, 37, 38, 43, 44, 46, 47, 49, 50, 51, 52, 53, 55, 56, 58, 59, 60, 62, 63, 64, 65, 67, 70, 72, 73, 74, 75, 76, 77, 78, 79, 80, 81, 82, 84, 85, 86, 88, 89]\n"
          ]
        }
      ]
    },
    {
      "cell_type": "code",
      "source": [
        "# Count how many images contain each category\n",
        "category_image_count = {cat_id: 0 for cat_id in target_class_ids}\n",
        "\n",
        "for img_id in coco.get_imgIds():\n",
        "    anns = coco.annIm_dict[img_id]\n",
        "    category_ids_in_image = {ann[\"category_id\"] for ann in anns}\n",
        "\n",
        "    # Count each category separately\n",
        "    for cat_id in category_ids_in_image:\n",
        "        if cat_id in target_class_ids:\n",
        "            category_image_count[cat_id] += 1\n",
        "\n",
        "# Print category-wise image count\n",
        "for cat_id, count in category_image_count.items():\n",
        "    cat_name = coco.cat_dict[cat_id][\"name\"]\n",
        "    print(f\"{cat_name}: {count} images\")\n"
      ],
      "metadata": {
        "colab": {
          "base_uri": "https://localhost:8080/",
          "height": 219
        },
        "id": "OACcTchtvzLI",
        "outputId": "e4f9a9fa-f946-411a-932a-46f6cf02e6c5"
      },
      "execution_count": null,
      "outputs": [
        {
          "output_type": "error",
          "ename": "NameError",
          "evalue": "name 'target_class_ids' is not defined",
          "traceback": [
            "\u001b[0;31m---------------------------------------------------------------------------\u001b[0m",
            "\u001b[0;31mNameError\u001b[0m                                 Traceback (most recent call last)",
            "\u001b[0;32m<ipython-input-10-56870ac3625b>\u001b[0m in \u001b[0;36m<cell line: 0>\u001b[0;34m()\u001b[0m\n\u001b[1;32m      1\u001b[0m \u001b[0;31m# Count how many images contain each category\u001b[0m\u001b[0;34m\u001b[0m\u001b[0;34m\u001b[0m\u001b[0m\n\u001b[0;32m----> 2\u001b[0;31m \u001b[0mcategory_image_count\u001b[0m \u001b[0;34m=\u001b[0m \u001b[0;34m{\u001b[0m\u001b[0mcat_id\u001b[0m\u001b[0;34m:\u001b[0m \u001b[0;36m0\u001b[0m \u001b[0;32mfor\u001b[0m \u001b[0mcat_id\u001b[0m \u001b[0;32min\u001b[0m \u001b[0mtarget_class_ids\u001b[0m\u001b[0;34m}\u001b[0m\u001b[0;34m\u001b[0m\u001b[0;34m\u001b[0m\u001b[0m\n\u001b[0m\u001b[1;32m      3\u001b[0m \u001b[0;34m\u001b[0m\u001b[0m\n\u001b[1;32m      4\u001b[0m \u001b[0;32mfor\u001b[0m \u001b[0mimg_id\u001b[0m \u001b[0;32min\u001b[0m \u001b[0mcoco\u001b[0m\u001b[0;34m.\u001b[0m\u001b[0mget_imgIds\u001b[0m\u001b[0;34m(\u001b[0m\u001b[0;34m)\u001b[0m\u001b[0;34m:\u001b[0m\u001b[0;34m\u001b[0m\u001b[0;34m\u001b[0m\u001b[0m\n\u001b[1;32m      5\u001b[0m     \u001b[0manns\u001b[0m \u001b[0;34m=\u001b[0m \u001b[0mcoco\u001b[0m\u001b[0;34m.\u001b[0m\u001b[0mannIm_dict\u001b[0m\u001b[0;34m[\u001b[0m\u001b[0mimg_id\u001b[0m\u001b[0;34m]\u001b[0m\u001b[0;34m\u001b[0m\u001b[0;34m\u001b[0m\u001b[0m\n",
            "\u001b[0;31mNameError\u001b[0m: name 'target_class_ids' is not defined"
          ]
        }
      ]
    },
    {
      "cell_type": "code",
      "source": [
        "filtered_image_ids = set()\n",
        "\n",
        "for ann in cocoTrain.annId_dict.values():\n",
        "    if ann[\"category_id\"] in target_class_ids:\n",
        "        filtered_image_ids.add(ann[\"image_id\"])\n",
        "\n",
        "filtered_image_ids = list(filtered_image_ids)\n",
        "print(f\"Total Images with Target Classes: {len(filtered_image_ids)}\")\n"
      ],
      "metadata": {
        "colab": {
          "base_uri": "https://localhost:8080/"
        },
        "id": "g91nrUIpudxg",
        "outputId": "b38ad66a-d3b8-491d-8e27-a1eb84ca7b2f"
      },
      "execution_count": null,
      "outputs": [
        {
          "output_type": "stream",
          "name": "stdout",
          "text": [
            "Total Images with Target Classes: 104877\n"
          ]
        }
      ]
    },
    {
      "cell_type": "code",
      "source": [
        "import shutil\n",
        "import os\n",
        "import json\n",
        "from multiprocessing import Pool\n",
        "\n",
        "# Define dataset paths\n",
        "dataset_images_dir = \"./coco_train2017\"\n",
        "filtered_annotations_file = \"./filtered_train_coco_dataset/annotations.json\"\n",
        "\n",
        "# Function to delete a single file\n",
        "def delete_file(file_path):\n",
        "    if os.path.exists(file_path):\n",
        "        os.remove(file_path)\n",
        "\n",
        "# Find all image IDs in the dataset\n",
        "all_image_ids = set(cocoTrain.im_dict.keys())\n",
        "\n",
        "# Find images that are NOT in the target filtered list\n",
        "images_to_delete = all_image_ids - set(filtered_image_ids)\n",
        "\n",
        "# Prepare deletion paths\n",
        "delete_paths = [\n",
        "    os.path.join(dataset_images_dir, cocoTrain.im_dict[img_id][\"file_name\"])\n",
        "    for img_id in images_to_delete\n",
        "]\n",
        "\n",
        "# Use multiprocessing for faster deletion\n",
        "with Pool(processes=8) as pool:  # Adjust based on CPU cores\n",
        "    pool.map(delete_file, delete_paths)\n",
        "\n",
        "print(f\"Deleted {len(images_to_delete)} images not belonging to target classes.\")\n",
        "\n",
        "# Optimized annotations filtering\n",
        "filtered_annotations = {\n",
        "    \"images\": [cocoTrain.im_dict[img_id] for img_id in filtered_image_ids],\n",
        "    \"annotations\": [ann for ann in cocoTrain.annId_dict.values() if ann[\"image_id\"] in filtered_image_ids],\n",
        "    \"categories\": [cocoTrain.cat_dict[cat_id] for cat_id in target_class_ids],\n",
        "}\n",
        "\n",
        "# Save filtered annotations\n",
        "with open(filtered_annotations_file, \"w\") as f:\n",
        "    json.dump(filtered_annotations, f, indent=4)\n",
        "\n",
        "print(f\"Filtered annotations saved to {filtered_annotations_file}\")\n",
        "\n",
        "# Remove the entire dataset folder after filtering if needed\n",
        "shutil.rmtree(dataset_images_dir)\n",
        "print(f\"Deleted the original dataset directory: {dataset_images_dir}\")\n"
      ],
      "metadata": {
        "id": "fNKkXI8DsNHk"
      },
      "execution_count": null,
      "outputs": []
    },
    {
      "cell_type": "code",
      "source": [
        "# import shutil\n",
        "# import os\n",
        "\n",
        "# # Create directories for filtered images and annotations\n",
        "# filtered_images_dir = \"./filtered_train_coco/images\"\n",
        "# filtered_annotations_file = \"./filtered_train_coco/annotations.json\"\n",
        "\n",
        "# os.makedirs(filtered_images_dir, exist_ok=True)\n",
        "\n",
        "# # Copy only the relevant images\n",
        "# for img_id in filtered_image_ids:\n",
        "#     img_info = cocoTrain.im_dict[img_id]\n",
        "#     img_filename = img_info[\"file_name\"]\n",
        "#     src_path = os.path.join(cocoTrain_images_dir, img_filename)\n",
        "#     dest_path = os.path.join(filtered_images_dir, img_filename)\n",
        "\n",
        "#     if os.path.exists(src_path):  # Ensure the image exists before copying\n",
        "#         shutil.copy(src_path, dest_path)\n",
        "\n",
        "# print(f\"Copied {len(filtered_image_ids)} images to {filtered_images_dir}\")\n",
        "\n",
        "# # Save filtered annotations\n",
        "# filtered_annotations = {\n",
        "#     \"images\": [cocoTrain.im_dict[img_id] for img_id in filtered_image_ids],\n",
        "#     \"annotations\": [ann for ann in cocoTrain.annId_dict.values() if ann[\"image_id\"] in filtered_image_ids],\n",
        "#     \"categories\": [cat for cat in cocoTrain.cat_dict.values() if cat[\"id\"] in target_class_ids]\n",
        "# }\n",
        "\n",
        "# with open(filtered_annotations_file, \"w\") as f:\n",
        "#     json.dump(filtered_annotations, f, indent=4)\n",
        "\n",
        "# print(f\"Filtered annotations saved to {filtered_annotations_file}\")\n"
      ],
      "metadata": {
        "id": "0CEJqzjqvEQz"
      },
      "execution_count": null,
      "outputs": []
    },
    {
      "cell_type": "code",
      "source": [
        "# import shutil\n",
        "# import os\n",
        "# import json\n",
        "# from multiprocessing import Pool\n",
        "\n",
        "# # Define paths\n",
        "# filtered_images_dir = \"./filtered_train_coco_dataset/images\"\n",
        "# filtered_annotations_file = \"./filtered_train_coco_dataset/annotations.json\"\n",
        "\n",
        "\n",
        "# # Recreate directories\n",
        "# os.makedirs(filtered_images_dir, exist_ok=True)\n",
        "\n",
        "# # Function to copy a single file (for multiprocessing)\n",
        "# def copy_file(src_dest):\n",
        "#     src, dest = src_dest\n",
        "#     if os.path.exists(src):\n",
        "#         shutil.copy2(src, dest)\n",
        "\n",
        "# # Prepare paths\n",
        "# src_dest_pairs = [\n",
        "#     (\n",
        "#         os.path.join(cocoTrain_images_dir, cocoTrain.im_dict[img_id][\"file_name\"]),\n",
        "#         os.path.join(filtered_images_dir, cocoTrain.im_dict[img_id][\"file_name\"]),\n",
        "#     )\n",
        "#     for img_id in filtered_image_ids\n",
        "# ]\n",
        "\n",
        "# # Use multiprocessing for faster copying\n",
        "# with Pool(processes=8) as pool:  # Adjust pool size based on CPU cores\n",
        "#     pool.map(copy_file, src_dest_pairs)\n",
        "\n",
        "# print(f\"Copied {len(filtered_image_ids)} images to {filtered_images_dir}\")\n",
        "\n",
        "# # Optimized annotations filtering\n",
        "# filtered_annotations = {\n",
        "#     \"images\": [cocoTrain.im_dict[img_id] for img_id in filtered_image_ids],\n",
        "#     \"annotations\": [ann for ann in cocoTrain.annId_dict.values() if ann[\"image_id\"] in filtered_image_ids],\n",
        "#     \"categories\": [cocoTrain.cat_dict[cat_id] for cat_id in target_class_ids],\n",
        "# }\n",
        "\n",
        "# # Save filtered annotations\n",
        "# with open(filtered_annotations_file, \"w\") as f:\n",
        "#     json.dump(filtered_annotations, f, indent=4)\n",
        "\n",
        "# print(f\"Filtered annotations saved to {filtered_annotations_file}\")\n",
        "# shutil.rmtree(\"/content/coco_train2017\")"
      ],
      "metadata": {
        "colab": {
          "base_uri": "https://localhost:8080/"
        },
        "id": "ICsBVrYL407Q",
        "outputId": "a4c0cd49-4f52-43dc-ecf3-6c5e65b42f4e"
      },
      "execution_count": null,
      "outputs": [
        {
          "output_type": "stream",
          "name": "stdout",
          "text": [
            "Copied 104877 images to ./filtered_train_coco_dataset/images\n"
          ]
        }
      ]
    },
    {
      "cell_type": "code",
      "source": [
        "filtered_image_ids = set()\n",
        "\n",
        "for ann in cocoVal.annId_dict.values():\n",
        "    if ann[\"category_id\"] in target_class_ids:\n",
        "        filtered_image_ids.add(ann[\"image_id\"])\n",
        "\n",
        "filtered_image_ids = list(filtered_image_ids)\n",
        "print(f\"Total Images with Target Classes: {len(filtered_image_ids)}\")\n"
      ],
      "metadata": {
        "id": "Wv4MAtkRzdoV"
      },
      "execution_count": null,
      "outputs": []
    },
    {
      "cell_type": "code",
      "source": [
        "import shutil\n",
        "import os\n",
        "\n",
        "# Create directories for filtered images and annotations\n",
        "filtered_images_dir = \"./filtered_val_coco/images\"\n",
        "filtered_annotations_file = \"./filtered_val_coco/annotations.json\"\n",
        "\n",
        "os.makedirs(filtered_images_dir, exist_ok=True)\n",
        "\n",
        "# Copy only the relevant images\n",
        "for img_id in filtered_image_ids:\n",
        "    img_info = cocoVal.im_dict[img_id]\n",
        "    img_filename = img_info[\"file_name\"]\n",
        "    src_path = os.path.join(cocoVal_images_dir, img_filename)\n",
        "    dest_path = os.path.join(filtered_images_dir, img_filename)\n",
        "\n",
        "    if os.path.exists(src_path):  # Ensure the image exists before copying\n",
        "        shutil.copy(src_path, dest_path)\n",
        "\n",
        "print(f\"Copied {len(filtered_image_ids)} images to {filtered_images_dir}\")\n",
        "\n",
        "# Save filtered annotations\n",
        "filtered_annotations = {\n",
        "    \"images\": [cocoVal.im_dict[img_id] for img_id in filtered_image_ids],\n",
        "    \"annotations\": [ann for ann in cocoVal.annId_dict.values() if ann[\"image_id\"] in filtered_image_ids],\n",
        "    \"categories\": [cat for cat in cocoVal.cat_dict.values() if cat[\"id\"] in target_class_ids]\n",
        "}\n",
        "\n",
        "with open(filtered_annotations_file, \"w\") as f:\n",
        "    json.dump(filtered_annotations, f, indent=4)\n",
        "\n",
        "print(f\"Filtered annotations saved to {filtered_annotations_file}\")\n"
      ],
      "metadata": {
        "id": "YponG9t0zdoW"
      },
      "execution_count": null,
      "outputs": []
    }
  ]
}